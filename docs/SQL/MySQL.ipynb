{
 "cells": [
  {
   "cell_type": "code",
   "execution_count": 1,
   "metadata": {
    "collapsed": true
   },
   "outputs": [],
   "source": [
    "import MySQLdb"
   ]
  },
  {
   "cell_type": "code",
   "execution_count": 2,
   "metadata": {
    "collapsed": true
   },
   "outputs": [],
   "source": [
    "host = \"j3jej8xd4knjfmt99sky.ck5y642otqtt.us-east-1.rds.amazonaws.com\"\n",
    "user = \"mQP7MgqhhSZPc6Py\"\n",
    "pw = \"%k3Uvsu={9)n}~WBq>m>\"\n",
    "db = \"HURDAT\"\n",
    "db = MySQLdb.connect(host,user,pw,db)"
   ]
  },
  {
   "cell_type": "code",
   "execution_count": 3,
   "metadata": {
    "collapsed": true
   },
   "outputs": [],
   "source": [
    "cursor = db.cursor()"
   ]
  },
  {
   "cell_type": "code",
   "execution_count": 4,
   "metadata": {
    "collapsed": true
   },
   "outputs": [],
   "source": [
    "sql = \"\"\"SELECT * \n",
    "    FROM `AL_summary` \n",
    "    WHERE `Year` = 2005;\"\"\""
   ]
  },
  {
   "cell_type": "code",
   "execution_count": 5,
   "metadata": {
    "collapsed": false
   },
   "outputs": [
    {
     "name": "stdout",
     "output_type": "stream",
     "text": [
      "Key = AL012005, Observations = 26, StartDate = None, EndDate = None, YearNum = 1, Year = 2005, Name = ARLENE, MaxWind = 60, MinPressure = 989\n",
      "Key = AL022005, Observations = 7, StartDate = None, EndDate = None, YearNum = 2, Year = 2005, Name = BRET, MaxWind = 35, MinPressure = 1002\n",
      "Key = AL032005, Observations = 34, StartDate = None, EndDate = None, YearNum = 3, Year = 2005, Name = CINDY, MaxWind = 65, MinPressure = 991\n",
      "Key = AL042005, Observations = 59, StartDate = None, EndDate = None, YearNum = 4, Year = 2005, Name = DENNIS, MaxWind = 130, MinPressure = 930\n",
      "Key = AL052005, Observations = 45, StartDate = None, EndDate = None, YearNum = 5, Year = 2005, Name = EMILY, MaxWind = 140, MinPressure = 929\n",
      "Key = AL062005, Observations = 38, StartDate = None, EndDate = None, YearNum = 6, Year = 2005, Name = FRANKLIN, MaxWind = 60, MinPressure = 997\n",
      "Key = AL072005, Observations = 9, StartDate = None, EndDate = None, YearNum = 7, Year = 2005, Name = GERT, MaxWind = 40, MinPressure = 1005\n",
      "Key = AL082005, Observations = 46, StartDate = None, EndDate = None, YearNum = 8, Year = 2005, Name = HARVEY, MaxWind = 55, MinPressure = 994\n",
      "Key = AL092005, Observations = 56, StartDate = None, EndDate = None, YearNum = 9, Year = 2005, Name = IRENE, MaxWind = 90, MinPressure = 970\n",
      "Key = AL102005, Observations = 21, StartDate = None, EndDate = None, YearNum = 10, Year = 2005, Name = TEN, MaxWind = 30, MinPressure = 1008\n",
      "Key = AL112005, Observations = 6, StartDate = None, EndDate = None, YearNum = 11, Year = 2005, Name = JOSE, MaxWind = 50, MinPressure = 998\n",
      "Key = AL122005, Observations = 34, StartDate = None, EndDate = None, YearNum = 12, Year = 2005, Name = KATRINA, MaxWind = 150, MinPressure = 902\n",
      "Key = AL132005, Observations = 26, StartDate = None, EndDate = None, YearNum = 13, Year = 2005, Name = LEE, MaxWind = 35, MinPressure = 1006\n",
      "Key = AL142005, Observations = 51, StartDate = None, EndDate = None, YearNum = 14, Year = 2005, Name = MARIA, MaxWind = 100, MinPressure = 962\n",
      "Key = AL152005, Observations = 29, StartDate = None, EndDate = None, YearNum = 15, Year = 2005, Name = NATE, MaxWind = 80, MinPressure = 979\n",
      "Key = AL162005, Observations = 69, StartDate = None, EndDate = None, YearNum = 16, Year = 2005, Name = OPHELIA, MaxWind = 75, MinPressure = 976\n",
      "Key = AL172005, Observations = 28, StartDate = None, EndDate = None, YearNum = 17, Year = 2005, Name = PHILIPPE, MaxWind = 70, MinPressure = 985\n",
      "Key = AL182005, Observations = 36, StartDate = None, EndDate = None, YearNum = 18, Year = 2005, Name = RITA, MaxWind = 155, MinPressure = 895\n",
      "Key = AL192005, Observations = 9, StartDate = None, EndDate = None, YearNum = 19, Year = 2005, Name = NINETEEN, MaxWind = 30, MinPressure = 1006\n",
      "Key = AL202005, Observations = 17, StartDate = None, EndDate = None, YearNum = 20, Year = 2005, Name = STAN, MaxWind = 70, MinPressure = 977\n",
      "Key = AL212005, Observations = 7, StartDate = None, EndDate = None, YearNum = 21, Year = 2005, Name = UNNAMED, MaxWind = 45, MinPressure = 997\n",
      "Key = AL222005, Observations = 9, StartDate = None, EndDate = None, YearNum = 22, Year = 2005, Name = TAMMY, MaxWind = 45, MinPressure = 1001\n",
      "Key = AL232005, Observations = 27, StartDate = None, EndDate = None, YearNum = 23, Year = 2005, Name = TWENTY-TWO, MaxWind = 40, MinPressure = 1005\n",
      "Key = AL242005, Observations = 15, StartDate = None, EndDate = None, YearNum = 24, Year = 2005, Name = VINCE, MaxWind = 65, MinPressure = 988\n",
      "Key = AL252005, Observations = 48, StartDate = None, EndDate = None, YearNum = 25, Year = 2005, Name = WILMA, MaxWind = 160, MinPressure = 882\n",
      "Key = AL262005, Observations = 11, StartDate = None, EndDate = None, YearNum = 26, Year = 2005, Name = ALPHA, MaxWind = 45, MinPressure = 998\n",
      "Key = AL272005, Observations = 18, StartDate = None, EndDate = None, YearNum = 27, Year = 2005, Name = BETA, MaxWind = 100, MinPressure = 962\n",
      "Key = AL282005, Observations = 33, StartDate = None, EndDate = None, YearNum = 28, Year = 2005, Name = GAMMA, MaxWind = 45, MinPressure = 1002\n",
      "Key = AL292005, Observations = 42, StartDate = None, EndDate = None, YearNum = 29, Year = 2005, Name = DELTA, MaxWind = 60, MinPressure = 980\n",
      "Key = AL302005, Observations = 43, StartDate = None, EndDate = None, YearNum = 30, Year = 2005, Name = EPSILON, MaxWind = 75, MinPressure = 981\n",
      "Key = AL312005, Observations = 36, StartDate = None, EndDate = None, YearNum = 31, Year = 2005, Name = ZETA, MaxWind = 55, MinPressure = 994\n"
     ]
    }
   ],
   "source": [
    "try:\n",
    "    # Execute the SQL command\n",
    "    cursor.execute(sql)\n",
    "    # Fetch all the rows in a list of lists.\n",
    "    results = cursor.fetchall()\n",
    "    for row in results:\n",
    "        Key = row[0]\n",
    "        Observations = row[1]\n",
    "        StartDate = row[2]\n",
    "        EndDate = row[3]\n",
    "        YearNum = row[4]\n",
    "        Year = row[5]\n",
    "        Name = row[6]\n",
    "        MaxWind = row[7]\n",
    "        MinPressure = row[8]\n",
    "        \n",
    "        # Now print fetched result\n",
    "        print \"Key = %s, Observations = %d, StartDate = %s, EndDate = %s, YearNum = %d, Year = %d, Name = %s, MaxWind = %d, MinPressure = %d\" % \\\n",
    "             (Key, Observations, StartDate, EndDate, YearNum, Year, Name, MaxWind, MinPressure)\n",
    "except:\n",
    "        print \"Error: unable to fetch data\""
   ]
  },
  {
   "cell_type": "code",
   "execution_count": 6,
   "metadata": {
    "collapsed": true
   },
   "outputs": [],
   "source": [
    "db.close()"
   ]
  },
  {
   "cell_type": "code",
   "execution_count": null,
   "metadata": {
    "collapsed": true
   },
   "outputs": [],
   "source": []
  }
 ],
 "metadata": {
  "kernelspec": {
   "display_name": "Python 2",
   "language": "python",
   "name": "python2"
  },
  "language_info": {
   "codemirror_mode": {
    "name": "ipython",
    "version": 2
   },
   "file_extension": ".py",
   "mimetype": "text/x-python",
   "name": "python",
   "nbconvert_exporter": "python",
   "pygments_lexer": "ipython2",
   "version": "2.7.6"
  }
 },
 "nbformat": 4,
 "nbformat_minor": 0
}
