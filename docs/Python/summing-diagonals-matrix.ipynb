{
 "cells": [
  {
   "cell_type": "raw",
   "metadata": {},
   "source": [
    "---\n",
    "title: Summing Diagonals of a Matrix in Python\n",
    "description: Using Python, Sum the Diagonals of a Matrix\n",
    "author: Tim Trice\n",
    "slug: sum-diagonals\n",
    "categories:\n",
    "  - Python\n",
    "  - Math\n",
    "tags:\n",
    "  - matrix\n",
    "weight: 1000000\n",
    "output:\n",
    "    blogdown::html_page:\n",
    "        toc: true\n",
    "draft: true\n",
    "---\n"
   ]
  },
  {
   "cell_type": "markdown",
   "metadata": {},
   "source": [
    "I want to find the difference of sums for each diagonal of a square matrix. "
   ]
  },
  {
   "cell_type": "code",
   "execution_count": 1,
   "metadata": {},
   "outputs": [],
   "source": [
    "from sympy import *"
   ]
  },
  {
   "cell_type": "code",
   "execution_count": 2,
   "metadata": {},
   "outputs": [
    {
     "data": {
      "text/plain": [
       "Matrix([\n",
       "[11, 2,   4],\n",
       "[ 4, 5,   6],\n",
       "[10, 8, -12]])"
      ]
     },
     "execution_count": 2,
     "metadata": {},
     "output_type": "execute_result"
    }
   ],
   "source": [
    "m = Matrix([\n",
    "[11, 2, 4],\n",
    "[4, 5, 6],\n",
    "[10, 8, -12]])\n",
    "\n",
    "m"
   ]
  },
  {
   "cell_type": "markdown",
   "metadata": {},
   "source": [
    "We'll write a small script that will calculate the absolute value of the difference of diagonals."
   ]
  },
  {
   "cell_type": "markdown",
   "metadata": {},
   "source": [
    "$$ a = n_\\text{11} + \\dots + n_\\text{nn}$$"
   ]
  },
  {
   "cell_type": "markdown",
   "metadata": {},
   "source": [
    "$n_\\text{11}$ refers to the value of the first row of the first column. $n_\\text{12}$ would refer to the value in the first row, second column. And $n_\\text{21}$ refers to the value in the second row, first column. $n_\\text{nn}$ refers to the value in the last row of the last column. "
   ]
  },
  {
   "cell_type": "markdown",
   "metadata": {},
   "source": [
    "$$\n",
    "\\begin{bmatrix}\n",
    "    n_{11} & n_{12} & \\dots  & n_{1n} \\\\\n",
    "    n_{21} & n_{22} & \\dots  & n_{2n} \\\\\n",
    "    \\vdots & \\vdots & \\ddots & \\vdots \\\\\n",
    "    n_{n1} & n_{n2} & \\dots  & n_{nn}\n",
    "\\end{bmatrix}\n",
    "$$"
   ]
  },
  {
   "cell_type": "markdown",
   "metadata": {},
   "source": [
    "So, in the example above we want to add $n_\\text{n11} + \\ddots + n_\\text{nn}$; we'll assign this to $a$. Then we'll add $n_\\text{1n} \\dots n_\\text{n1}$ and assign it to $b$ and calculate $\\lvert a - b \\rvert$."
   ]
  },
  {
   "cell_type": "markdown",
   "metadata": {},
   "source": [
    "Let's write out our problem solving first.\n",
    "\n",
    "$$\n",
    "\\begin{bmatrix}\n",
    "    11 & 2 & 4 \\\\\n",
    "    4 & 5 & 6 \\\\\n",
    "    10 & 8 & -12\n",
    "\\end{bmatrix}\n",
    "$$"
   ]
  },
  {
   "cell_type": "markdown",
   "metadata": {},
   "source": [
    "$$ \\lvert\\left(11 + 5 - 12\\right) - \\left(4 + 5 + 10\\right) \\rvert$$"
   ]
  },
  {
   "cell_type": "markdown",
   "metadata": {},
   "source": [
    "Working out the problem we can find the solution is 15. So, if we wanted to solve this programmatically we could do something like this:"
   ]
  },
  {
   "cell_type": "code",
   "execution_count": 3,
   "metadata": {},
   "outputs": [
    {
     "name": "stdout",
     "output_type": "stream",
     "text": [
      "15\n"
     ]
    }
   ],
   "source": [
    "# With a square matrix we can get either the 0 or 1 index of shape\n",
    "n = m.shape[0]\n",
    "\n",
    "# Set our sum variables\n",
    "a = 0; b = 0\n",
    "\n",
    "for _ in range(n):\n",
    "    a += m[_, _]\n",
    "    b += m[_, n - 1]\n",
    "    # We'll decrement n by 1 to keep track of where we're at.\n",
    "    n -= 1\n",
    "\n",
    "print(abs(a - b))"
   ]
  },
  {
   "cell_type": "markdown",
   "metadata": {},
   "source": [
    "`_` is my counter in the for loop that begins at 0 and ends at $n - 1$. So, basically as we iterate through each row of the matrix I'm taking $n_\\text{__}$ and adding it to $a$.\n",
    "\n",
    "$$ a = n[0, 0] + n [1, 1] + n[2, 2]$$\n",
    "\n",
    "$$ a = 11 + 5 + (-12) $$\n",
    "\n",
    "$$ a =4 $$"
   ]
  },
  {
   "cell_type": "markdown",
   "metadata": {},
   "source": [
    "For $b$ we do the same but for the column value we're taking $n - 1$. This works because to access $n_\\text{12}$, 4, we need the value of `m[0, 2]`. \n",
    "\n",
    "On our second iteration through $\\text{_}$ is decremented by 1 which becomes 2. So $b$ then gets summed with the value of $n_\\text{22}$ which is 5. The final iteration decrements $n$ to 1 so now we're accessing $n_\\text{31}$ which is 10.\n",
    "\n",
    "At this point you may be confused with the labeling. Remember, in Python indexes are 0-based. Mathematically, matrixes are 1-based. So when I reference the Python matrix, for example, `m[0, 0]`, the first value in the matrix, this corresponds to $n_\\text{11}$ in the mathematical matrix. And `m[2, 2]` is the same as $n_\\text{33}$. I hope that clears it up."
   ]
  },
  {
   "cell_type": "markdown",
   "metadata": {},
   "source": [
    "Let's make another square matrix, this one 10x10. We'll make each row sequential from 0 - 9."
   ]
  },
  {
   "cell_type": "code",
   "execution_count": 4,
   "metadata": {},
   "outputs": [
    {
     "data": {
      "text/plain": [
       "Matrix([\n",
       "[0, 1, 2, 3, 4, 5, 6, 7, 8, 9],\n",
       "[0, 1, 2, 3, 4, 5, 6, 7, 8, 9],\n",
       "[0, 1, 2, 3, 4, 5, 6, 7, 8, 9],\n",
       "[0, 1, 2, 3, 4, 5, 6, 7, 8, 9],\n",
       "[0, 1, 2, 3, 4, 5, 6, 7, 8, 9],\n",
       "[0, 1, 2, 3, 4, 5, 6, 7, 8, 9],\n",
       "[0, 1, 2, 3, 4, 5, 6, 7, 8, 9],\n",
       "[0, 1, 2, 3, 4, 5, 6, 7, 8, 9],\n",
       "[0, 1, 2, 3, 4, 5, 6, 7, 8, 9]])"
      ]
     },
     "execution_count": 4,
     "metadata": {},
     "output_type": "execute_result"
    }
   ],
   "source": [
    "m = Matrix([\n",
    "[0, 1, 2, 3, 4, 5, 6, 7, 8, 9],\n",
    "[0, 1, 2, 3, 4, 5, 6, 7, 8, 9],\n",
    "[0, 1, 2, 3, 4, 5, 6, 7, 8, 9],\n",
    "[0, 1, 2, 3, 4, 5, 6, 7, 8, 9],\n",
    "[0, 1, 2, 3, 4, 5, 6, 7, 8, 9],\n",
    "[0, 1, 2, 3, 4, 5, 6, 7, 8, 9],\n",
    "[0, 1, 2, 3, 4, 5, 6, 7, 8, 9],\n",
    "[0, 1, 2, 3, 4, 5, 6, 7, 8, 9],\n",
    "[0, 1, 2, 3, 4, 5, 6, 7, 8, 9]])\n",
    "\n",
    "m"
   ]
  },
  {
   "cell_type": "markdown",
   "metadata": {},
   "source": [
    "$$\n",
    "\\begin{bmatrix}\n",
    "    0 & 1 & 2 & 3 & 4 & 5 & 6 & 7 & 8 & 9 \\\\\n",
    "    0 & 1 & 2 & 3 & 4 & 5 & 6 & 7 & 8 & 9 \\\\\n",
    "    0 & 1 & 2 & 3 & 4 & 5 & 6 & 7 & 8 & 9 \\\\\n",
    "    0 & 1 & 2 & 3 & 4 & 5 & 6 & 7 & 8 & 9 \\\\\n",
    "    0 & 1 & 2 & 3 & 4 & 5 & 6 & 7 & 8 & 9 \\\\\n",
    "    0 & 1 & 2 & 3 & 4 & 5 & 6 & 7 & 8 & 9 \\\\\n",
    "    0 & 1 & 2 & 3 & 4 & 5 & 6 & 7 & 8 & 9 \\\\\n",
    "    0 & 1 & 2 & 3 & 4 & 5 & 6 & 7 & 8 & 9 \\\\\n",
    "    0 & 1 & 2 & 3 & 4 & 5 & 6 & 7 & 8 & 9 \\\\\n",
    "    0 & 1 & 2 & 3 & 4 & 5 & 6 & 7 & 8 & 9\n",
    "\\end{bmatrix}\n",
    "$$"
   ]
  },
  {
   "cell_type": "markdown",
   "metadata": {},
   "source": [
    "At first glance, this may seem daunting. But, our formula will still work:"
   ]
  },
  {
   "cell_type": "code",
   "execution_count": 5,
   "metadata": {},
   "outputs": [
    {
     "name": "stdout",
     "output_type": "stream",
     "text": [
      "0\n"
     ]
    }
   ],
   "source": [
    "# With a square matrix we can get the first value of shape\n",
    "n = m.shape[0]\n",
    "\n",
    "# Set our sum variables\n",
    "a = 0; b = 0\n",
    "\n",
    "for _ in range(n):\n",
    "    a += m[_, _]\n",
    "    b += m[_, n - 1]\n",
    "    # We'll decrement n by 1 to keep track of where we're at.\n",
    "    n -= 1\n",
    "\n",
    "print(abs(a - b))"
   ]
  },
  {
   "cell_type": "markdown",
   "metadata": {},
   "source": [
    "Let's write it out:\n",
    "\n",
    "$$ \\lvert\\left( 0 + 1 + 2 + 3 + 4 + 5 + 6 + 7 + 8 + 9 \\right) - \\left( 9 + 8 + 7 + 6 + 5 + 4 + 3 + 2 + 1 + 0 \\right)\\rvert $$\n",
    "\n",
    "$$ \\lvert\\left( 45 \\right) - \\left( 45 \\right)\\rvert $$\n",
    "\n",
    "$$ \\lvert 0 \\rvert $$\n",
    "\n",
    "$$ 0 $$"
   ]
  },
  {
   "cell_type": "markdown",
   "metadata": {},
   "source": [
    "So it seems our little script will work. But, can we simplify this some? Let's go back to our simpler matrix:\n",
    "\n",
    "$$\n",
    "\\begin{bmatrix}\n",
    "    11 & 2 & 4 \\\\\n",
    "    4 & 5 & 6 \\\\\n",
    "    10 & 8 & -12\n",
    "\\end{bmatrix}\n",
    "$$"
   ]
  },
  {
   "cell_type": "code",
   "execution_count": 6,
   "metadata": {},
   "outputs": [
    {
     "data": {
      "text/plain": [
       "Matrix([\n",
       "[11, 2,   4],\n",
       "[ 4, 5,   6],\n",
       "[10, 8, -12]])"
      ]
     },
     "execution_count": 6,
     "metadata": {},
     "output_type": "execute_result"
    }
   ],
   "source": [
    "m = Matrix([\n",
    "[11, 2, 4],\n",
    "[4, 5, 6],\n",
    "[10, 8, -12]])\n",
    "\n",
    "m"
   ]
  },
  {
   "cell_type": "markdown",
   "metadata": {},
   "source": [
    "Our original formula was:\n",
    "\n",
    "$$ \\lvert\\left(11 + 5 - 12\\right) - \\left(4 + 5 + 10\\right) \\rvert$$\n",
    "\n",
    "But, this is the same as:\n",
    "\n",
    "$$ \\lvert\\left(11 - 4\\right) + \\left(5 - 5\\right) + \\left(-12 - 10\\right) \\rvert $$\n",
    "\n",
    "$$ \\lvert 9 + 0 + -22 \\rvert $$\n",
    "\n",
    "$$ \\lvert -15 \\rvert $$\n",
    "\n",
    "$$ 15 $$\n",
    "\n",
    "So we're taking the absolute value of the sum of $n_\\text{13} \\dots n_\\text{31}$. In Python, this is the same as `m[0, 2]`, `m[1, 1]` and `m[2, 0]`. As our x-axis (rows) increments by 1 our y-axis (columns) decrements by 1.\n",
    "\n",
    "You may or may not realize that we can access the y-axis with negative integers. For example, if the dimensions of `m` are $3$ then we can access the last value of the first row, `m[0, 2]` another way: `m[0, -1]`:"
   ]
  },
  {
   "cell_type": "code",
   "execution_count": 7,
   "metadata": {},
   "outputs": [
    {
     "data": {
      "text/plain": [
       "4"
      ]
     },
     "execution_count": 7,
     "metadata": {},
     "output_type": "execute_result"
    }
   ],
   "source": [
    "m[0, -1]"
   ]
  },
  {
   "cell_type": "code",
   "execution_count": 8,
   "metadata": {},
   "outputs": [
    {
     "data": {
      "text/plain": [
       "5"
      ]
     },
     "execution_count": 8,
     "metadata": {},
     "output_type": "execute_result"
    }
   ],
   "source": [
    "m[1, -2]"
   ]
  },
  {
   "cell_type": "code",
   "execution_count": 9,
   "metadata": {},
   "outputs": [
    {
     "data": {
      "text/plain": [
       "10"
      ]
     },
     "execution_count": 9,
     "metadata": {},
     "output_type": "execute_result"
    }
   ],
   "source": [
    "m[2, -3]"
   ]
  },
  {
   "cell_type": "markdown",
   "metadata": {},
   "source": [
    "Again, as our x-axis increments our y-axis decrements. With that we can use the counter to our advantage:"
   ]
  },
  {
   "cell_type": "code",
   "execution_count": 10,
   "metadata": {},
   "outputs": [
    {
     "name": "stdout",
     "output_type": "stream",
     "text": [
      "0 -1\n",
      "1 -2\n",
      "2 -3\n"
     ]
    }
   ],
   "source": [
    "for _ in range(m.shape[0]):\n",
    "    print(_, -(1 + _))"
   ]
  },
  {
   "cell_type": "markdown",
   "metadata": {},
   "source": [
    "We're using `_` to keep track of our x-axis. To keep track of our y-axis we simply add 1 to `_` then multiply it by -1. As you can see we have the same indexes that we just referenced prior. Now we can expand on the for loop."
   ]
  },
  {
   "cell_type": "code",
   "execution_count": 11,
   "metadata": {},
   "outputs": [
    {
     "name": "stdout",
     "output_type": "stream",
     "text": [
      "15\n"
     ]
    }
   ],
   "source": [
    "ans = 0;\n",
    "for _ in range(m.shape[0]):\n",
    "    ans += m[_, _] - m[_, -(1 + _)]\n",
    "\n",
    "print(abs(ans))"
   ]
  },
  {
   "cell_type": "markdown",
   "metadata": {},
   "source": [
    "We took what originally was seven lines of code and dropped it to four. That may not seem like much but it does make the code more legible and saves some computing power by reducing variables."
   ]
  }
 ],
 "metadata": {
  "anaconda-cloud": {},
  "kernelspec": {
   "display_name": "Python 3",
   "language": "python",
   "name": "python3"
  },
  "language_info": {
   "codemirror_mode": {
    "name": "ipython",
    "version": 3
   },
   "file_extension": ".py",
   "mimetype": "text/x-python",
   "name": "python",
   "nbconvert_exporter": "python",
   "pygments_lexer": "ipython3",
   "version": "3.6.2"
  }
 },
 "nbformat": 4,
 "nbformat_minor": 1
}
