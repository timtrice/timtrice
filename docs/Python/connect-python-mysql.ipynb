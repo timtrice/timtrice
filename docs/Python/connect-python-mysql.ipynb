{
 "cells": [
  {
   "cell_type": "raw",
   "metadata": {},
   "source": [
    "---\n",
    "title: Connect Python with MySQL\n",
    "description: Example post of connecting Python to MySQL database\n",
    "author: Tim Trice\n",
    "slug: connect-python-mysql\n",
    "categories:\n",
    "  - Python\n",
    "  - MySQL\n",
    "tags:\n",
    "  - connection\n",
    "weight: 1000000\n",
    "output:\n",
    "    blogdown::html_page:\n",
    "        toc: true\n",
    "draft: true\n",
    "---\n"
   ]
  },
  {
   "cell_type": "markdown",
   "metadata": {},
   "source": [
    "[Access MySQL from Python Notebook using MySQLdb](http://support.datascientistworkbench.com/knowledgebase/articles/831621-access-mysql-from-python-notebook-using-mysqldb)"
   ]
  },
  {
   "cell_type": "code",
   "execution_count": 1,
   "metadata": {},
   "outputs": [],
   "source": [
    "import MySQLdb"
   ]
  },
  {
   "cell_type": "code",
   "execution_count": 2,
   "metadata": {},
   "outputs": [],
   "source": [
    "#Enter the values for you database connection\n",
    "dsn_hostname = \"mysql\"\n",
    "dsn_port = 3306\n",
    "dsn_uid = \"root\"\n",
    "dsn_pwd = \"e99rntuUXMGHB6Zt\""
   ]
  },
  {
   "cell_type": "code",
   "execution_count": 3,
   "metadata": {},
   "outputs": [],
   "source": [
    "conn = MySQLdb.connect(host=dsn_hostname, port=dsn_port, user=dsn_uid, passwd=dsn_pwd)"
   ]
  },
  {
   "cell_type": "code",
   "execution_count": 4,
   "metadata": {},
   "outputs": [],
   "source": [
    "conn.query(\"\"\"CREATE DATABASE IF NOT EXISTS practice\"\"\")\n",
    "conn.query(\"\"\"USE Examples\"\"\")\n",
    "conn.query(\"\"\"DROP TABLE IF NOT EXISTS Cars\"\"\")\n",
    "conn.query(\"\"\"CREATE TABLE Cars(Id INTEGER PRIMARY KEY, Name VARCHAR(20), Price INT)\"\"\")\n",
    "conn.query(\"\"\"INSERT INTO Cars VALUES(1,'Audi',52642)\"\"\")\n",
    "conn.query(\"\"\"INSERT INTO Cars VALUES(2,'Mercedes',57127)\"\"\")\n",
    "conn.query(\"\"\"INSERT INTO Cars VALUES(3,'Skoda',9000)\"\"\")\n",
    "conn.query(\"\"\"INSERT INTO Cars VALUES(4,'Volvo',29000)\"\"\")\n",
    "conn.query(\"\"\"INSERT INTO Cars VALUES(5,'Bentley',350000)\"\"\")\n",
    "conn.query(\"\"\"INSERT INTO Cars VALUES(6,'Citroen',21000)\"\"\")\n",
    "conn.query(\"\"\"INSERT INTO Cars VALUES(7,'Hummer',41400)\"\"\")\n",
    "conn.query(\"\"\"INSERT INTO Cars VALUES(8,'Volkswagen',21600)\"\"\")"
   ]
  },
  {
   "cell_type": "code",
   "execution_count": 5,
   "metadata": {},
   "outputs": [
    {
     "data": {
      "text/plain": [
       "(1, 'Audi', 52642)"
      ]
     },
     "execution_count": 5,
     "metadata": {},
     "output_type": "execute_result"
    }
   ],
   "source": [
    "cursor=conn.cursor()\n",
    "cursor.execute(\"\"\"SELECT * FROM Cars\"\"\")\n",
    "cursor.fetchone()"
   ]
  },
  {
   "cell_type": "code",
   "execution_count": 6,
   "metadata": {},
   "outputs": [
    {
     "name": "stdout",
     "output_type": "stream",
     "text": [
      "\n",
      "Show me the records:\n",
      "\n",
      "((2, 'Mercedes', 57127),\n",
      " (3, 'Skoda', 9000),\n",
      " (4, 'Volvo', 29000),\n",
      " (5, 'Bentley', 350000),\n",
      " (6, 'Citroen', 21000),\n",
      " (7, 'Hummer', 41400),\n",
      " (8, 'Volkswagen', 21600))\n"
     ]
    }
   ],
   "source": [
    "print (\"\\nShow me the records:\\n\")\n",
    "rows = cursor.fetchall()\n",
    "import pprint\n",
    "pprint.pprint(rows)"
   ]
  },
  {
   "cell_type": "code",
   "execution_count": 7,
   "metadata": {},
   "outputs": [],
   "source": [
    "conn.close()"
   ]
  }
 ],
 "metadata": {
  "kernelspec": {
   "display_name": "Python 3",
   "language": "python",
   "name": "python3"
  },
  "language_info": {
   "codemirror_mode": {
    "name": "ipython",
    "version": 3
   },
   "file_extension": ".py",
   "mimetype": "text/x-python",
   "name": "python",
   "nbconvert_exporter": "python",
   "pygments_lexer": "ipython3",
   "version": "3.6.2"
  }
 },
 "nbformat": 4,
 "nbformat_minor": 2
}
