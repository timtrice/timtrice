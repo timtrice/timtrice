{
 "cells": [
  {
   "cell_type": "code",
   "execution_count": 1,
   "metadata": {},
   "outputs": [],
   "source": [
    "import mysql.connector\n",
    "from mysql.connector import errorcode"
   ]
  },
  {
   "cell_type": "code",
   "execution_count": 2,
   "metadata": {},
   "outputs": [],
   "source": [
    "# Obtain connection string information from the portal\n",
    "config = {\n",
    "  'host':'andromeda',\n",
    "  'user':'root',\n",
    "  'password':'qNlr0rZtf5VfGQ9m',\n",
    "  'database':'information_schema'\n",
    "}"
   ]
  },
  {
   "cell_type": "code",
   "execution_count": 3,
   "metadata": {},
   "outputs": [],
   "source": [
    "conn = mysql.connector.connect(**config)"
   ]
  },
  {
   "cell_type": "code",
   "execution_count": 4,
   "metadata": {},
   "outputs": [],
   "source": [
    "cursor = conn.cursor()"
   ]
  },
  {
   "cell_type": "code",
   "execution_count": 5,
   "metadata": {},
   "outputs": [
    {
     "name": "stdout",
     "output_type": "stream",
     "text": [
      "('Read', 75, 'row(s) of data.')\n",
      "Data row = (ALL_PLUGINS)\n",
      "Data row = (APPLICABLE_ROLES)\n",
      "Data row = (CHARACTER_SETS)\n",
      "Data row = (COLLATIONS)\n",
      "Data row = (COLLATION_CHARACTER_SET_APPLICABILITY)\n",
      "Data row = (COLUMNS)\n",
      "Data row = (COLUMN_PRIVILEGES)\n",
      "Data row = (ENABLED_ROLES)\n",
      "Data row = (ENGINES)\n",
      "Data row = (EVENTS)\n",
      "Data row = (FILES)\n",
      "Data row = (GLOBAL_STATUS)\n",
      "Data row = (GLOBAL_VARIABLES)\n",
      "Data row = (KEY_CACHES)\n",
      "Data row = (KEY_COLUMN_USAGE)\n",
      "Data row = (PARAMETERS)\n",
      "Data row = (PARTITIONS)\n",
      "Data row = (PLUGINS)\n",
      "Data row = (PROCESSLIST)\n",
      "Data row = (PROFILING)\n",
      "Data row = (REFERENTIAL_CONSTRAINTS)\n",
      "Data row = (ROUTINES)\n",
      "Data row = (SCHEMATA)\n",
      "Data row = (SCHEMA_PRIVILEGES)\n",
      "Data row = (SESSION_STATUS)\n",
      "Data row = (SESSION_VARIABLES)\n",
      "Data row = (STATISTICS)\n",
      "Data row = (SYSTEM_VARIABLES)\n",
      "Data row = (TABLES)\n",
      "Data row = (TABLESPACES)\n",
      "Data row = (TABLE_CONSTRAINTS)\n",
      "Data row = (TABLE_PRIVILEGES)\n",
      "Data row = (TRIGGERS)\n",
      "Data row = (USER_PRIVILEGES)\n",
      "Data row = (VIEWS)\n",
      "Data row = (GEOMETRY_COLUMNS)\n",
      "Data row = (SPATIAL_REF_SYS)\n",
      "Data row = (CLIENT_STATISTICS)\n",
      "Data row = (INDEX_STATISTICS)\n",
      "Data row = (INNODB_SYS_DATAFILES)\n",
      "Data row = (USER_STATISTICS)\n",
      "Data row = (INNODB_SYS_TABLESTATS)\n",
      "Data row = (INNODB_LOCKS)\n",
      "Data row = (INNODB_TABLESPACES_SCRUBBING)\n",
      "Data row = (INNODB_CMPMEM)\n",
      "Data row = (INNODB_CMP_PER_INDEX)\n",
      "Data row = (INNODB_CMP)\n",
      "Data row = (INNODB_FT_DELETED)\n",
      "Data row = (INNODB_CMP_RESET)\n",
      "Data row = (INNODB_LOCK_WAITS)\n",
      "Data row = (TABLE_STATISTICS)\n",
      "Data row = (INNODB_TABLESPACES_ENCRYPTION)\n",
      "Data row = (INNODB_BUFFER_PAGE_LRU)\n",
      "Data row = (INNODB_SYS_FIELDS)\n",
      "Data row = (INNODB_CMPMEM_RESET)\n",
      "Data row = (INNODB_SYS_COLUMNS)\n",
      "Data row = (INNODB_FT_INDEX_TABLE)\n",
      "Data row = (INNODB_CMP_PER_INDEX_RESET)\n",
      "Data row = (user_variables)\n",
      "Data row = (INNODB_FT_INDEX_CACHE)\n",
      "Data row = (INNODB_SYS_FOREIGN_COLS)\n",
      "Data row = (INNODB_FT_BEING_DELETED)\n",
      "Data row = (INNODB_BUFFER_POOL_STATS)\n",
      "Data row = (INNODB_TRX)\n",
      "Data row = (INNODB_SYS_FOREIGN)\n",
      "Data row = (INNODB_SYS_TABLES)\n",
      "Data row = (INNODB_FT_DEFAULT_STOPWORD)\n",
      "Data row = (INNODB_FT_CONFIG)\n",
      "Data row = (INNODB_BUFFER_PAGE)\n",
      "Data row = (INNODB_SYS_TABLESPACES)\n",
      "Data row = (INNODB_METRICS)\n",
      "Data row = (INNODB_SYS_INDEXES)\n",
      "Data row = (INNODB_SYS_VIRTUAL)\n",
      "Data row = (INNODB_MUTEXES)\n",
      "Data row = (INNODB_SYS_SEMAPHORE_WAITS)\n"
     ]
    }
   ],
   "source": [
    "# Read data\n",
    "cursor.execute(\"SHOW TABLES;\")\n",
    "rows = cursor.fetchall()\n",
    "print(\"Read\",cursor.rowcount,\"row(s) of data.\")\n",
    "\n",
    "# Print all rows\n",
    "for row in rows:\n",
    "  print(\"Data row = (%s)\" %(str(row[0])))"
   ]
  },
  {
   "cell_type": "code",
   "execution_count": 6,
   "metadata": {},
   "outputs": [
    {
     "name": "stdout",
     "output_type": "stream",
     "text": [
      "Done.\n"
     ]
    }
   ],
   "source": [
    "  # Cleanup\n",
    "  conn.commit()\n",
    "  cursor.close()\n",
    "  conn.close()\n",
    "  print(\"Done.\")"
   ]
  }
 ],
 "metadata": {
  "kernelspec": {
   "display_name": "Python 3",
   "language": "python",
   "name": "python3"
  },
  "language_info": {
   "codemirror_mode": {
    "name": "ipython",
    "version": 2
   },
   "file_extension": ".py",
   "mimetype": "text/x-python",
   "name": "python",
   "nbconvert_exporter": "python",
   "pygments_lexer": "ipython2",
   "version": "2.7.13"
  }
 },
 "nbformat": 4,
 "nbformat_minor": 2
}
